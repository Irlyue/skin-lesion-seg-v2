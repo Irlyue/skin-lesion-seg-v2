{
 "cells": [
  {
   "cell_type": "code",
   "execution_count": null,
   "metadata": {},
   "outputs": [],
   "source": [
    "import os\n",
    "import sys\n",
    "import numpy as np\n",
    "import tensorflow as tf\n",
    "\n",
    "\n",
    "from matplotlib import pyplot as plt\n",
    "from scipy.misc import imread, imresize\n",
    "\n",
    "if tf.__version__ != '1.4.0':\n",
    "  raise ImportError('Please upgrade your tensorflow installation to v1.4.0!')\n",
    "\n",
    "%matplotlib inline"
   ]
  },
  {
   "cell_type": "code",
   "execution_count": null,
   "metadata": {
    "collapsed": true
   },
   "outputs": [],
   "source": [
    "BASE_DIR = '/home/wenfeng/all-files/skin-lesion-seg-v2'"
   ]
  },
  {
   "cell_type": "code",
   "execution_count": null,
   "metadata": {
    "collapsed": true
   },
   "outputs": [],
   "source": [
    "import crf\n",
    "import inputs\n",
    "import my_utils\n",
    "import evaluation\n",
    "\n",
    "from sklearn.model_selection import KFold\n",
    "%load_ext autoreload\n",
    "%autoreload 2"
   ]
  },
  {
   "cell_type": "code",
   "execution_count": null,
   "metadata": {
    "collapsed": true
   },
   "outputs": [],
   "source": [
    "config = my_utils.load_config(os.path.join(BASE_DIR, 'config.json'))\n",
    "image_config = my_utils.load_config(os.path.join(BASE_DIR, 'image_config.json'))"
   ]
  },
  {
   "cell_type": "code",
   "execution_count": null,
   "metadata": {
    "collapsed": true
   },
   "outputs": [],
   "source": [
    "class RestoredModel:\n",
    "    def __init__(self, ckpt_file):\n",
    "        self.graph = tf.Graph()\n",
    "        with self.graph.as_default() as g:\n",
    "            with tf.device('/cpu'):\n",
    "                od_graph_def = tf.GraphDef()\n",
    "                with tf.gfile.GFile(ckpt_file, 'rb') as fid:\n",
    "                    sg = fid.read()\n",
    "                    od_graph_def.ParseFromString(sg)\n",
    "                    tf.import_graph_def(od_graph_def, name='')\n",
    "\n",
    "                self.image_ph = g.get_tensor_by_name('image_tensor:0')\n",
    "                self.bboxes = g.get_tensor_by_name('detection_boxes:0')\n",
    "                self.scores = g.get_tensor_by_name('detection_scores:0')\n",
    "                self.n_bboxes = g.get_tensor_by_name('num_detections:0')\n",
    "    \n",
    "    def inference_box(self, image):\n",
    "        sess = tf.get_default_session()\n",
    "        image = image[None] if len(image.shape) == 3 else image\n",
    "        return sess.run(self.bboxes, feed_dict={self.image_ph: image})[0, 0]"
   ]
  },
  {
   "cell_type": "code",
   "execution_count": null,
   "metadata": {
    "collapsed": true
   },
   "outputs": [],
   "source": [
    "fold = 0\n",
    "PATH_TO_CKPT = os.path.join(BASE_DIR, 'training/train/%d/output_inference_graph.pb/frozen_inference_graph.pb' % fold)"
   ]
  },
  {
   "cell_type": "code",
   "execution_count": null,
   "metadata": {},
   "outputs": [],
   "source": [
    "PATH_TO_CKPT"
   ]
  },
  {
   "cell_type": "code",
   "execution_count": null,
   "metadata": {
    "collapsed": true
   },
   "outputs": [],
   "source": [
    "mm = RestoredModel(PATH_TO_CKPT)"
   ]
  },
  {
   "cell_type": "code",
   "execution_count": null,
   "metadata": {
    "collapsed": true
   },
   "outputs": [],
   "source": [
    "dermquest = inputs.load_raw_data('dermquest', config)\n",
    "train_data = inputs.get_kth_fold(dermquest, fold, config['n_folds'], seed=config['split_seed'])\n",
    "test_data = inputs.get_kth_fold(dermquest, fold, config['n_folds'], seed=config['split_seed'], type_='test')"
   ]
  },
  {
   "cell_type": "code",
   "execution_count": null,
   "metadata": {},
   "outputs": [],
   "source": [
    "len(dermquest), len(train_data), len(test_data)"
   ]
  },
  {
   "cell_type": "code",
   "execution_count": null,
   "metadata": {},
   "outputs": [],
   "source": [
    "base = train_data.listing[0]\n",
    "img1, _, _ = inputs.load_one_example(base)\n",
    "print(img1.shape)\n",
    "img1, _, _ = inputs.load_one_example(base, smallest_to=400)\n",
    "print(img1.shape)\n",
    "img1, _, _ = inputs.load_one_example(base, highest_to=400)\n",
    "print(img1.shape)\n",
    "img1, _, _ = inputs.load_one_example(base, size=(400, 400))\n",
    "print(img1.shape)"
   ]
  },
  {
   "cell_type": "code",
   "execution_count": null,
   "metadata": {},
   "outputs": [],
   "source": [
    "path_base = test_data.listing[31]\n",
    "with mm.graph.as_default() as g:\n",
    "    with tf.Session(graph=g, config=tf.ConfigProto(device_count={'GPU': 0})):\n",
    "        image = imread(path_base + '_orig.jpg')\n",
    "        label = imread(path_base + '_contour.png')\n",
    "        label[label == 255] = 1\n",
    "        bbox_gt = my_utils.calc_bbox(label)\n",
    "        \n",
    "        plt.figure(figsize=(20, 10))\n",
    "        plt.subplot(211)\n",
    "        bbox_pred = mm.inference_box(image)\n",
    "        plt.imshow(image)\n",
    "        \n",
    "        top, left, height, width = my_utils.bbox_xy_to_tlwh(bbox_pred, image.shape[:2])\n",
    "        plt.gca().add_patch(plt.Rectangle((left, top), width, height, alpha=0.2, color='b'))\n",
    "        \n",
    "        top, left, height, width = bbox_gt\n",
    "        plt.gca().add_patch(plt.Rectangle((left, top), width, height, alpha=0.2, color='r'))\n",
    "        \n",
    "        \n",
    "        plt.subplot(212)\n",
    "        label[label == 0] = 255\n",
    "        top, left, height, width = my_utils.bbox_xy_to_tlwh(bbox_pred, image.shape[:2])\n",
    "        plt.gca().add_patch(plt.Rectangle((left, top), width, height, alpha=0.2, color='b'))\n",
    "\n",
    "        top, left, height, width = bbox_gt\n",
    "        plt.gca().add_patch(plt.Rectangle((left, top), width, height, alpha=0.2, color='r'))\n",
    "        \n",
    "        plt.imshow(label, cmap='gray')\n",
    "        \n",
    "        plt.show()\n",
    "        print(my_utils.calc_bbox_iou(bbox_gt, my_utils.bbox_xy_to_tlwh(bbox_pred, image.shape[:2])))"
   ]
  },
  {
   "cell_type": "code",
   "execution_count": null,
   "metadata": {},
   "outputs": [],
   "source": [
    "path_base = test_data[1]\n",
    "with mm.graph.as_default() as g:\n",
    "    with tf.Session(graph=g, config=tf.ConfigProto(device_count={'GPU': 0})):\n",
    "        for i, base in enumerate(test_data.listing):\n",
    "            image, label, bbox_gt = inputs.load_one_example(base)\n",
    "\n",
    "            bbox_pred = mm.inference_box(image)\n",
    "            bbox_pred = my_utils.bbox_xy_to_tlwh(bbox_pred, image.shape[:2])\n",
    "            iou_i = my_utils.calc_bbox_iou(bbox_gt, bbox_pred)\n",
    "            if iou_i < 0.5:\n",
    "                print(i, iou_i, '----------->')\n",
    "            else:\n",
    "                print(i, iou_i)"
   ]
  },
  {
   "cell_type": "code",
   "execution_count": null,
   "metadata": {
    "scrolled": true
   },
   "outputs": [],
   "source": [
    "with mm.graph.as_default() as g:\n",
    "    result = {\n",
    "        'TP': 0,\n",
    "        'TN': 0,\n",
    "        'FP': 0,\n",
    "        'FN': 0\n",
    "    }\n",
    "    def update_dict(target, to_update):\n",
    "        for key in to_update:\n",
    "            target[key] += to_update[key]\n",
    "    with tf.Session(graph=g, config=tf.ConfigProto(device_count={'GPU': 0})):\n",
    "        for i, base in enumerate(test_data.listing):\n",
    "            image, label, bbox_gt = inputs.load_one_example(base, highest_to=600)\n",
    "            result_i, _ = evaluation.inference_with_restored_model(mm, image, label,\n",
    "                                                                   bbox_gt=bbox_gt,\n",
    "                                                                   verbose=False, \n",
    "                                                                   times=3,\n",
    "                                                                   gt_prob=0.51)\n",
    "            if _['IoU'] < 0.5:\n",
    "                print('---->')\n",
    "                # continue\n",
    "            update_dict(result, result_i)\n",
    "            result_i.update(my_utils.metric_many_from_counter(result_i))\n",
    "            # print(i, result_i)\n",
    "        result.update(my_utils.metric_many_from_counter(result))\n",
    "        print(result)"
   ]
  },
  {
   "cell_type": "code",
   "execution_count": null,
   "metadata": {
    "collapsed": true
   },
   "outputs": [],
   "source": [
    "def show_one_result(image, label, label_pred, bbox_gt, bbox_pred):\n",
    "    plt.figure(figsize=(30, 20))\n",
    "    plt.subplot(311)\n",
    "    plt.imshow(image)\n",
    "    top, left, height, width = bbox_gt\n",
    "    plt.gca().add_patch(plt.Rectangle((left, top), width, height, alpha=0.2, color='b'))\n",
    "\n",
    "    top, left, height, width = bbox_pred\n",
    "    plt.gca().add_patch(plt.Rectangle((left, top), width, height, alpha=0.2, color='r'))\n",
    "    \n",
    "    plt.subplot(312)\n",
    "    plt.imshow(label_pred, cmap='gray')\n",
    "    \n",
    "    plt.subplot(313)\n",
    "    plt.imshow(label, cmap='gray')\n",
    "    plt.show()"
   ]
  },
  {
   "cell_type": "code",
   "execution_count": null,
   "metadata": {},
   "outputs": [],
   "source": [
    "sess = tf.Session(graph=mm.graph, config=tf.ConfigProto(device_count={'GPU': 0}))\n",
    "sess.__enter__()"
   ]
  },
  {
   "cell_type": "code",
   "execution_count": null,
   "metadata": {},
   "outputs": [],
   "source": [
    "%%timeit -r 5 -n 1\n",
    "image, label, bbox_gt = inputs.load_one_example(test_data.listing[7], highest_to=600)\n",
    "result, prediction = evaluation.inference_with_restored_model(mm, image, label, bbox_gt, times=3, gt_prob=0.51)\n",
    "# print(result)\n",
    "label_pred, bbox_pred = prediction['label'], prediction['bbox']\n",
    "# show_one_result(image, label, label_pred, bbox_gt, bbox_pred)"
   ]
  },
  {
   "cell_type": "code",
   "execution_count": null,
   "metadata": {
    "collapsed": true
   },
   "outputs": [],
   "source": [
    "sess.__exit__(None, None, None)"
   ]
  },
  {
   "cell_type": "code",
   "execution_count": null,
   "metadata": {
    "collapsed": true
   },
   "outputs": [],
   "source": [
    "label_pred.shape"
   ]
  },
  {
   "cell_type": "code",
   "execution_count": null,
   "metadata": {
    "collapsed": true
   },
   "outputs": [],
   "source": []
  }
 ],
 "metadata": {
  "kernelspec": {
   "display_name": "Python 3",
   "language": "python",
   "name": "python3"
  }
 },
 "nbformat": 4,
 "nbformat_minor": 2
}
